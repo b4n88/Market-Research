{
  "nbformat": 4,
  "nbformat_minor": 0,
  "metadata": {
    "colab": {
      "provenance": []
    },
    "kernelspec": {
      "name": "python3",
      "display_name": "Python 3"
    },
    "language_info": {
      "name": "python"
    }
  },
  "cells": [
    {
      "cell_type": "markdown",
      "source": [
        "# Apa Itu Git\n",
        "\n",
        "Git adalah sistem kontrol versi (version control system) yang digunakan untuk mengelola, menyimpan, dan berbagi kode sumber (source code). Git merupakan alat yang umum digunakan oleh programmer dan developer untuk mengembangkan perangkat lunak secara kolaboratif."
      ],
      "metadata": {
        "id": "fywC8fYyQr45"
      }
    },
    {
      "cell_type": "markdown",
      "source": [
        "# Dasar dasar Git"
      ],
      "metadata": {
        "id": "lfBkThB6QzDa"
      }
    },
    {
      "cell_type": "code",
      "source": [
        "# view the history of your changes using\n",
        "$ git log\n",
        "\n",
        "# want to see complete diffs at each step, use\n",
        "$ git log -p\n",
        "\n",
        "# Overview of the change is useful to get a feel of each step\n",
        "$ git log --stat -summary\n",
        "\n",
        "# Wanna see is git has already on Device\n",
        "$ git -v\n",
        "$ git --version\n",
        "\n",
        "# Need help\n",
        "$ git -h\n",
        "\n",
        "# See where repository we use\n",
        "$ git remote -v\n",
        "\n",
        "# See detail remote origin\n",
        "$ git remote show origin\n",
        "\n",
        "# Check rhepository and active Branches\n",
        "$ git branch -a\n",
        "\n",
        "# shows the status of files in the local Git repository\n",
        "$ git status"
      ],
      "metadata": {
        "id": "wryiFFCkQynY"
      },
      "execution_count": null,
      "outputs": []
    },
    {
      "cell_type": "markdown",
      "source": [
        "# Tutorial\n",
        "\n",
        "Tutor dekk !!"
      ],
      "metadata": {
        "id": "mRiRNNSQQ2y0"
      }
    },
    {
      "cell_type": "markdown",
      "source": [
        "## Upload di Github"
      ],
      "metadata": {
        "id": "y_2aBkctQ-Ff"
      }
    },
    {
      "cell_type": "code",
      "source": [
        "# Checking is already conct to repo in Github?\n",
        "$ git remote -v\n",
        "\n",
        "# Inisilitation first step\n",
        "$ git init\n",
        "\n",
        "# Adding file\n",
        "$ git add .  # For all file\n",
        "$ git add proj.ipynb # For any file\n",
        "\n",
        "# Input on local Repo\n",
        "$ git commit -m \"Hasil updatean Repo\"\n",
        "\n",
        "# Connecting Git to Github\n",
        "$ git remote add origin https://github.com/username/repo.git\n",
        "\"\"\"Opsional lakukan pemeriksaan dulu apakah sudah terhubung atau tidak {git remote -v}\"\"\"\n",
        "\n",
        "# Transfer to github\n",
        "$ git push -u origin main # ini dilakukan Untuk pertama kalinya\n",
        "$ git push origin # Jika sudah ada di {git remote show origin}\n",
        "\"\"\"main adlah nmama repository, sehingga jika reponya master maka edit origin master\"\"\""
      ],
      "metadata": {
        "id": "r9xvrpDKRI-u"
      },
      "execution_count": null,
      "outputs": []
    },
    {
      "cell_type": "markdown",
      "source": [
        "## Mengakses Code di komputer lain\n",
        "\n",
        "gampang sisa Download file di github dengan cara masuk ke `code`, lalu clik code warna hijau lalu download. jika sudah sisa lakukan dengan cara pada sub bab seblumnya."
      ],
      "metadata": {
        "id": "TZEkTp-3RDRs"
      }
    },
    {
      "cell_type": "markdown",
      "source": [
        "Cara diatas untuk versi simple kita juga bisa mengaksess file dengan :"
      ],
      "metadata": {
        "id": "WdQRz3s0anae"
      }
    },
    {
      "cell_type": "code",
      "execution_count": null,
      "metadata": {
        "id": "NzrxhBt1C4Fe"
      },
      "outputs": [],
      "source": [
        "#cloning\n",
        "$ git clone https://github.com/username/repository.git\n",
        "$ git add .\n",
        "$ git commit -m \"Menambahkan tulisan blog baru\"\n",
        "$ git push"
      ]
    },
    {
      "cell_type": "markdown",
      "source": [
        "Jika Anda ingin berkontribusi dan bekerja dengan Git:\n",
        "👉 Gunakan git clone\n",
        "\n",
        "Jika Anda hanya ingin melihat atau menguji file:\n",
        "👉 Gunakan Download ZIP"
      ],
      "metadata": {
        "id": "Ds7tQbgda1r5"
      }
    }
  ]
}